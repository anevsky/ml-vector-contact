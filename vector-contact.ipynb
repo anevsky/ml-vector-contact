{
 "cells": [
  {
   "cell_type": "code",
   "execution_count": 56,
   "metadata": {},
   "outputs": [],
   "source": [
    "from sentence_transformers import SentenceTransformer\n",
    "from sklearn.metrics.pairwise import cosine_similarity\n",
    "\n",
    "import lancedb\n",
    "from openai import OpenAI\n",
    "\n",
    "import os\n",
    "import shutil\n",
    "\n",
    "folder_name = \"data\"\n",
    "if os.path.exists(folder_name):\n",
    "    shutil.rmtree(folder_name)\n"
   ]
  },
  {
   "cell_type": "code",
   "execution_count": 57,
   "metadata": {},
   "outputs": [
    {
     "name": "stderr",
     "output_type": "stream",
     "text": [
      "/Library/Frameworks/Python.framework/Versions/3.12/lib/python3.12/site-packages/huggingface_hub/file_download.py:1132: FutureWarning: `resume_download` is deprecated and will be removed in version 1.0.0. Downloads always resume when possible. If you want to force a new download, use `force_download=True`.\n",
      "  warnings.warn(\n"
     ]
    },
    {
     "name": "stdout",
     "output_type": "stream",
     "text": [
      "Similarity: tensor([[0.1873, 0.3293, 0.3355, 0.1441, 0.3172]])\n"
     ]
    }
   ],
   "source": [
    "from sentence_transformers import SentenceTransformer, util\n",
    "\n",
    "model = SentenceTransformer(\"multi-qa-MiniLM-L6-cos-v1\")\n",
    "\n",
    "query_embedding = model.encode(\"List all ML Engineers in New York\")\n",
    "passage_embedding = model.encode([\n",
    "    \"Full Name: Alex Nevsky. Occupation: Software Engineer. City: San Francisco. State: California. LinkedIn: @anevsky. Tags: AI, Mobile, Web, Java, Python, back-end\",\n",
    "    \"Full Name: Alex Wong. Occupation: Software Engineer. City: Mountain View. State: California. Tags: Front-end.\",\n",
    "    \"Full Name: Marry Fox. Occupation: ML Engineer. City: New York City. State: New York. LinkedIn: @marryfox. Tags: AI, ml, Python.\",\n",
    "    \"Full Name: Ted Morron. Occupation: Barista. City: San Francisco. State: California. Tags: caffe, coffee.\",\n",
    "    \"Full Name: Ashe Go. Occupation: CEO. City: San Francisco. State: California. Tags: AI, startups, ML.\"\n",
    "])\n",
    "\n",
    "print(\"Similarity:\", util.dot_score(query_embedding, passage_embedding))"
   ]
  },
  {
   "cell_type": "code",
   "execution_count": 58,
   "metadata": {},
   "outputs": [
    {
     "data": {
      "text/plain": [
       "array([[-0.00840704, -0.01886728, -0.0131277 , ..., -0.02578857,\n",
       "        -0.02379082,  0.04095635],\n",
       "       [ 0.00242943, -0.01622415,  0.00548521, ...,  0.00610532,\n",
       "        -0.05727729,  0.04155755],\n",
       "       [-0.02421891, -0.04881497,  0.03955508, ...,  0.01458464,\n",
       "         0.05470884, -0.00919613],\n",
       "       [-0.01558675, -0.00480161,  0.05806651, ..., -0.02103744,\n",
       "         0.01579561, -0.01941385],\n",
       "       [ 0.01490096,  0.01539139, -0.02562573, ..., -0.05243963,\n",
       "        -0.01386047,  0.0209235 ]], dtype=float32)"
      ]
     },
     "execution_count": 58,
     "metadata": {},
     "output_type": "execute_result"
    }
   ],
   "source": [
    "model = SentenceTransformer('all-MiniLM-L6-v2')\n",
    "\n",
    "sentences = [\n",
    "    \"Full Name: Alex Nevsky. Occupation: Software Engineer. City: San Francisco. State: California. LinkedIn: @anevsky. Tags: AI, Mobile, Web, Java, Python, back-end\",\n",
    "    \"Full Name: Alex Wong. Occupation: Software Engineer. City: Mountain View. State: California. Tags: Front-end.\",\n",
    "    \"Full Name: Marry Fox. Occupation: ML Engineer. City: New York City. State: New York. LinkedIn: @marryfox. Tags: AI, ml, Python.\",\n",
    "    \"Full Name: Ted Morron. Occupation: Barista. City: San Francisco. State: California. Tags: caffe, coffee.\",\n",
    "    \"Full Name: Ashe Go. Occupation: CEO. City: San Francisco. State: California. Tags: AI, startups, ML.\"\n",
    "    ]\n",
    "\n",
    "embeddings = model.encode(sentences)\n",
    "embeddings"
   ]
  },
  {
   "cell_type": "code",
   "execution_count": 59,
   "metadata": {},
   "outputs": [],
   "source": [
    "data = []\n",
    "\n",
    "for sentence in sentences:\n",
    "    data.append({\"vector\": model.encode(sentence),\n",
    "                 \"sentence\": sentence})\n",
    "\n",
    "uri = \"data/sample-lancedb\"\n",
    "db = lancedb.connect(uri)\n",
    "table = db.create_table(\"my_table\",\n",
    "                         data=data)"
   ]
  },
  {
   "cell_type": "code",
   "execution_count": 60,
   "metadata": {},
   "outputs": [
    {
     "data": {
      "text/html": [
       "<div>\n",
       "<style scoped>\n",
       "    .dataframe tbody tr th:only-of-type {\n",
       "        vertical-align: middle;\n",
       "    }\n",
       "\n",
       "    .dataframe tbody tr th {\n",
       "        vertical-align: top;\n",
       "    }\n",
       "\n",
       "    .dataframe thead th {\n",
       "        text-align: right;\n",
       "    }\n",
       "</style>\n",
       "<table border=\"1\" class=\"dataframe\">\n",
       "  <thead>\n",
       "    <tr style=\"text-align: right;\">\n",
       "      <th></th>\n",
       "      <th>vector</th>\n",
       "      <th>sentence</th>\n",
       "      <th>_distance</th>\n",
       "    </tr>\n",
       "  </thead>\n",
       "  <tbody>\n",
       "    <tr>\n",
       "      <th>0</th>\n",
       "      <td>[0.0024293826, -0.016224163, 0.0054853167, 0.0...</td>\n",
       "      <td>Full Name: Alex Wong. Occupation: Software Eng...</td>\n",
       "      <td>0.508827</td>\n",
       "    </tr>\n",
       "    <tr>\n",
       "      <th>1</th>\n",
       "      <td>[-0.0084070405, -0.018867284, -0.013127698, -0...</td>\n",
       "      <td>Full Name: Alex Nevsky. Occupation: Software E...</td>\n",
       "      <td>0.570755</td>\n",
       "    </tr>\n",
       "    <tr>\n",
       "      <th>2</th>\n",
       "      <td>[-0.024218908, -0.048814967, 0.039555084, 0.04...</td>\n",
       "      <td>Full Name: Marry Fox. Occupation: ML Engineer....</td>\n",
       "      <td>0.628869</td>\n",
       "    </tr>\n",
       "    <tr>\n",
       "      <th>3</th>\n",
       "      <td>[0.014900965, 0.015391387, -0.025625734, 0.055...</td>\n",
       "      <td>Full Name: Ashe Go. Occupation: CEO. City: San...</td>\n",
       "      <td>0.740284</td>\n",
       "    </tr>\n",
       "  </tbody>\n",
       "</table>\n",
       "</div>"
      ],
      "text/plain": [
       "                                              vector  \\\n",
       "0  [0.0024293826, -0.016224163, 0.0054853167, 0.0...   \n",
       "1  [-0.0084070405, -0.018867284, -0.013127698, -0...   \n",
       "2  [-0.024218908, -0.048814967, 0.039555084, 0.04...   \n",
       "3  [0.014900965, 0.015391387, -0.025625734, 0.055...   \n",
       "\n",
       "                                            sentence  _distance  \n",
       "0  Full Name: Alex Wong. Occupation: Software Eng...   0.508827  \n",
       "1  Full Name: Alex Nevsky. Occupation: Software E...   0.570755  \n",
       "2  Full Name: Marry Fox. Occupation: ML Engineer....   0.628869  \n",
       "3  Full Name: Ashe Go. Occupation: CEO. City: San...   0.740284  "
      ]
     },
     "execution_count": 60,
     "metadata": {},
     "output_type": "execute_result"
    }
   ],
   "source": [
    "result = table.search(model.encode(\"Software Engineer\")).metric(\"cosine\").limit(4).to_pandas()\n",
    "result"
   ]
  },
  {
   "cell_type": "code",
   "execution_count": 61,
   "metadata": {},
   "outputs": [
    {
     "name": "stderr",
     "output_type": "stream",
     "text": [
      "/Library/Frameworks/Python.framework/Versions/3.12/lib/python3.12/site-packages/huggingface_hub/file_download.py:1132: FutureWarning: `resume_download` is deprecated and will be removed in version 1.0.0. Downloads always resume when possible. If you want to force a new download, use `force_download=True`.\n",
      "  warnings.warn(\n"
     ]
    },
    {
     "data": {
      "text/plain": [
       "array([  0.45121267,   0.8517368 , -10.188475  , -11.457465  ],\n",
       "      dtype=float32)"
      ]
     },
     "execution_count": 61,
     "metadata": {},
     "output_type": "execute_result"
    }
   ],
   "source": [
    "from sentence_transformers import CrossEncoder\n",
    "model = CrossEncoder('cross-encoder/ms-marco-TinyBERT-L-2-v2', max_length=512)\n",
    "scores = model.predict([\n",
    "    (\"Software Engineer\", result['sentence'].iloc[0]), \n",
    "    (\"Software Engineer\", result['sentence'].iloc[1]), \n",
    "    (\"Software Engineer\", result['sentence'].iloc[2]),\n",
    "    (\"Software Engineer\", result['sentence'].iloc[3]),\n",
    "])\n",
    "scores"
   ]
  },
  {
   "cell_type": "code",
   "execution_count": 62,
   "metadata": {},
   "outputs": [],
   "source": [
    "question = \"back-end engineers in San Francisco\""
   ]
  },
  {
   "cell_type": "code",
   "execution_count": 63,
   "metadata": {},
   "outputs": [
    {
     "name": "stdout",
     "output_type": "stream",
     "text": [
      "*Full Name: Alex Wong. Occupation: Software Engineer. City: Mountain View. State: California. Tags: Front-end.\n",
      "*Full Name: Alex Nevsky. Occupation: Software Engineer. City: San Francisco. State: California. LinkedIn: @anevsky. Tags: AI, Mobile, Web, Java, Python, back-end\n",
      "*Full Name: Ted Morron. Occupation: Barista. City: San Francisco. State: California. Tags: caffe, coffee.\n",
      "\n"
     ]
    }
   ],
   "source": [
    "model = SentenceTransformer('all-MiniLM-L6-v2')\n",
    "\n",
    "result = table.search(model.encode(question)).metric(\"cosine\").limit(3).to_pandas()\n",
    "\n",
    "formatted = \"\".join([f\"*{line}\\n\" for line in result['sentence']])\n",
    "print(formatted)"
   ]
  },
  {
   "cell_type": "code",
   "execution_count": 64,
   "metadata": {},
   "outputs": [],
   "source": [
    "PROMPT = f\"\"\"\n",
    "USING PROVIDED DATA BELOW YOU **MUST** ANSWER USER'S QUESTION. \n",
    "**PROVIDED INFORMATION**:\n",
    "{formatted}\n",
    "\n",
    "**USER'S QUESTION**:\n",
    "{question}\n",
    "\n",
    "**ANSWER MUST BE CLEAR AND PROMPT AND **MUST** BE BASED ON PROVIDED INFORMATION ONLY **\n",
    "\"\"\""
   ]
  },
  {
   "cell_type": "code",
   "execution_count": 65,
   "metadata": {},
   "outputs": [],
   "source": [
    "token = open(\"api.key\", \"r\").read().strip()\n",
    "\n",
    "openai_client = OpenAI(api_key = token)"
   ]
  },
  {
   "cell_type": "code",
   "execution_count": 66,
   "metadata": {},
   "outputs": [
    {
     "name": "stdout",
     "output_type": "stream",
     "text": [
      "Alex Nevsky is a back-end engineer in San Francisco, California.\n"
     ]
    }
   ],
   "source": [
    "response = openai_client.chat.completions.create(\n",
    "  model=\"gpt-3.5-turbo-0125\",\n",
    "  messages=[\n",
    "    {\n",
    "      \"role\": \"user\",\n",
    "      \"content\": [\n",
    "        {\n",
    "          \"type\": \"text\",\n",
    "          \"text\": PROMPT\n",
    "        }\n",
    "      ]\n",
    "    }\n",
    "  ],\n",
    "  temperature=0,\n",
    "  max_tokens=256,\n",
    "  top_p=1,\n",
    "  frequency_penalty=0,\n",
    "  presence_penalty=0\n",
    ")\n",
    "\n",
    "print(response.choices[0].message.content)"
   ]
  }
 ],
 "metadata": {
  "kernelspec": {
   "display_name": "Python 3",
   "language": "python",
   "name": "python3"
  },
  "language_info": {
   "codemirror_mode": {
    "name": "ipython",
    "version": 3
   },
   "file_extension": ".py",
   "mimetype": "text/x-python",
   "name": "python",
   "nbconvert_exporter": "python",
   "pygments_lexer": "ipython3",
   "version": "3.12.2"
  }
 },
 "nbformat": 4,
 "nbformat_minor": 2
}
